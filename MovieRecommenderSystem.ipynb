{
 "cells": [
  {
   "cell_type": "code",
   "execution_count": 1,
   "id": "7e0f6cdc-db04-4969-a52e-a76b77fa3e71",
   "metadata": {},
   "outputs": [],
   "source": [
    "import pandas as pd\n",
    "import numpy as np"
   ]
  },
  {
   "cell_type": "code",
   "execution_count": 2,
   "id": "3ec611b4-255a-499b-b233-d977e1621708",
   "metadata": {},
   "outputs": [],
   "source": [
    "movies = pd.read_csv('TMDB_movie_dataset_v11.csv')"
   ]
  },
  {
   "cell_type": "code",
   "execution_count": 3,
   "id": "3a8a6b05-a2e0-40ff-a187-26f755e7b163",
   "metadata": {},
   "outputs": [
    {
     "data": {
      "text/html": [
       "<div>\n",
       "<style scoped>\n",
       "    .dataframe tbody tr th:only-of-type {\n",
       "        vertical-align: middle;\n",
       "    }\n",
       "\n",
       "    .dataframe tbody tr th {\n",
       "        vertical-align: top;\n",
       "    }\n",
       "\n",
       "    .dataframe thead th {\n",
       "        text-align: right;\n",
       "    }\n",
       "</style>\n",
       "<table border=\"1\" class=\"dataframe\">\n",
       "  <thead>\n",
       "    <tr style=\"text-align: right;\">\n",
       "      <th></th>\n",
       "      <th>id</th>\n",
       "      <th>title</th>\n",
       "      <th>vote_average</th>\n",
       "      <th>vote_count</th>\n",
       "      <th>status</th>\n",
       "      <th>release_date</th>\n",
       "      <th>revenue</th>\n",
       "      <th>runtime</th>\n",
       "      <th>adult</th>\n",
       "      <th>backdrop_path</th>\n",
       "      <th>...</th>\n",
       "      <th>original_language</th>\n",
       "      <th>original_title</th>\n",
       "      <th>overview</th>\n",
       "      <th>popularity</th>\n",
       "      <th>poster_path</th>\n",
       "      <th>tagline</th>\n",
       "      <th>genres</th>\n",
       "      <th>production_companies</th>\n",
       "      <th>production_countries</th>\n",
       "      <th>spoken_languages</th>\n",
       "    </tr>\n",
       "  </thead>\n",
       "  <tbody>\n",
       "    <tr>\n",
       "      <th>0</th>\n",
       "      <td>27205</td>\n",
       "      <td>Inception</td>\n",
       "      <td>8.364</td>\n",
       "      <td>34495</td>\n",
       "      <td>Released</td>\n",
       "      <td>2010-07-15</td>\n",
       "      <td>825532764</td>\n",
       "      <td>148</td>\n",
       "      <td>False</td>\n",
       "      <td>/8ZTVqvKDQ8emSGUEMjsS4yHAwrp.jpg</td>\n",
       "      <td>...</td>\n",
       "      <td>en</td>\n",
       "      <td>Inception</td>\n",
       "      <td>Cobb, a skilled thief who commits corporate es...</td>\n",
       "      <td>83.952</td>\n",
       "      <td>/oYuLEt3zVCKq57qu2F8dT7NIa6f.jpg</td>\n",
       "      <td>Your mind is the scene of the crime.</td>\n",
       "      <td>Action, Science Fiction, Adventure</td>\n",
       "      <td>Legendary Pictures, Syncopy, Warner Bros. Pict...</td>\n",
       "      <td>United Kingdom, United States of America</td>\n",
       "      <td>English, French, Japanese, Swahili</td>\n",
       "    </tr>\n",
       "    <tr>\n",
       "      <th>1</th>\n",
       "      <td>157336</td>\n",
       "      <td>Interstellar</td>\n",
       "      <td>8.417</td>\n",
       "      <td>32571</td>\n",
       "      <td>Released</td>\n",
       "      <td>2014-11-05</td>\n",
       "      <td>701729206</td>\n",
       "      <td>169</td>\n",
       "      <td>False</td>\n",
       "      <td>/pbrkL804c8yAv3zBZR4QPEafpAR.jpg</td>\n",
       "      <td>...</td>\n",
       "      <td>en</td>\n",
       "      <td>Interstellar</td>\n",
       "      <td>The adventures of a group of explorers who mak...</td>\n",
       "      <td>140.241</td>\n",
       "      <td>/gEU2QniE6E77NI6lCU6MxlNBvIx.jpg</td>\n",
       "      <td>Mankind was born on Earth. It was never meant ...</td>\n",
       "      <td>Adventure, Drama, Science Fiction</td>\n",
       "      <td>Legendary Pictures, Syncopy, Lynda Obst Produc...</td>\n",
       "      <td>United Kingdom, United States of America</td>\n",
       "      <td>English</td>\n",
       "    </tr>\n",
       "    <tr>\n",
       "      <th>2</th>\n",
       "      <td>155</td>\n",
       "      <td>The Dark Knight</td>\n",
       "      <td>8.512</td>\n",
       "      <td>30619</td>\n",
       "      <td>Released</td>\n",
       "      <td>2008-07-16</td>\n",
       "      <td>1004558444</td>\n",
       "      <td>152</td>\n",
       "      <td>False</td>\n",
       "      <td>/nMKdUUepR0i5zn0y1T4CsSB5chy.jpg</td>\n",
       "      <td>...</td>\n",
       "      <td>en</td>\n",
       "      <td>The Dark Knight</td>\n",
       "      <td>Batman raises the stakes in his war on crime. ...</td>\n",
       "      <td>130.643</td>\n",
       "      <td>/qJ2tW6WMUDux911r6m7haRef0WH.jpg</td>\n",
       "      <td>Welcome to a world without rules.</td>\n",
       "      <td>Drama, Action, Crime, Thriller</td>\n",
       "      <td>DC Comics, Legendary Pictures, Syncopy, Isobel...</td>\n",
       "      <td>United Kingdom, United States of America</td>\n",
       "      <td>English, Mandarin</td>\n",
       "    </tr>\n",
       "  </tbody>\n",
       "</table>\n",
       "<p>3 rows × 23 columns</p>\n",
       "</div>"
      ],
      "text/plain": [
       "       id            title  vote_average  vote_count    status release_date  \\\n",
       "0   27205        Inception         8.364       34495  Released   2010-07-15   \n",
       "1  157336     Interstellar         8.417       32571  Released   2014-11-05   \n",
       "2     155  The Dark Knight         8.512       30619  Released   2008-07-16   \n",
       "\n",
       "      revenue  runtime  adult                     backdrop_path  ...  \\\n",
       "0   825532764      148  False  /8ZTVqvKDQ8emSGUEMjsS4yHAwrp.jpg  ...   \n",
       "1   701729206      169  False  /pbrkL804c8yAv3zBZR4QPEafpAR.jpg  ...   \n",
       "2  1004558444      152  False  /nMKdUUepR0i5zn0y1T4CsSB5chy.jpg  ...   \n",
       "\n",
       "   original_language   original_title  \\\n",
       "0                 en        Inception   \n",
       "1                 en     Interstellar   \n",
       "2                 en  The Dark Knight   \n",
       "\n",
       "                                            overview popularity  \\\n",
       "0  Cobb, a skilled thief who commits corporate es...     83.952   \n",
       "1  The adventures of a group of explorers who mak...    140.241   \n",
       "2  Batman raises the stakes in his war on crime. ...    130.643   \n",
       "\n",
       "                        poster_path  \\\n",
       "0  /oYuLEt3zVCKq57qu2F8dT7NIa6f.jpg   \n",
       "1  /gEU2QniE6E77NI6lCU6MxlNBvIx.jpg   \n",
       "2  /qJ2tW6WMUDux911r6m7haRef0WH.jpg   \n",
       "\n",
       "                                             tagline  \\\n",
       "0               Your mind is the scene of the crime.   \n",
       "1  Mankind was born on Earth. It was never meant ...   \n",
       "2                  Welcome to a world without rules.   \n",
       "\n",
       "                               genres  \\\n",
       "0  Action, Science Fiction, Adventure   \n",
       "1   Adventure, Drama, Science Fiction   \n",
       "2      Drama, Action, Crime, Thriller   \n",
       "\n",
       "                                production_companies  \\\n",
       "0  Legendary Pictures, Syncopy, Warner Bros. Pict...   \n",
       "1  Legendary Pictures, Syncopy, Lynda Obst Produc...   \n",
       "2  DC Comics, Legendary Pictures, Syncopy, Isobel...   \n",
       "\n",
       "                       production_countries  \\\n",
       "0  United Kingdom, United States of America   \n",
       "1  United Kingdom, United States of America   \n",
       "2  United Kingdom, United States of America   \n",
       "\n",
       "                     spoken_languages  \n",
       "0  English, French, Japanese, Swahili  \n",
       "1                             English  \n",
       "2                   English, Mandarin  \n",
       "\n",
       "[3 rows x 23 columns]"
      ]
     },
     "execution_count": 3,
     "metadata": {},
     "output_type": "execute_result"
    }
   ],
   "source": [
    "movies.head(3)"
   ]
  },
  {
   "cell_type": "code",
   "execution_count": 4,
   "id": "be4c1efc-9f75-48c6-82c2-8f914b4bbfab",
   "metadata": {},
   "outputs": [],
   "source": [
    "movies = movies[['id','title','release_date','original_language','overview','poster_path','production_companies','genres']]"
   ]
  },
  {
   "cell_type": "code",
   "execution_count": 5,
   "id": "002e7411-2ca6-4867-be25-4f4eb2342e34",
   "metadata": {},
   "outputs": [
    {
     "data": {
      "text/html": [
       "<div>\n",
       "<style scoped>\n",
       "    .dataframe tbody tr th:only-of-type {\n",
       "        vertical-align: middle;\n",
       "    }\n",
       "\n",
       "    .dataframe tbody tr th {\n",
       "        vertical-align: top;\n",
       "    }\n",
       "\n",
       "    .dataframe thead th {\n",
       "        text-align: right;\n",
       "    }\n",
       "</style>\n",
       "<table border=\"1\" class=\"dataframe\">\n",
       "  <thead>\n",
       "    <tr style=\"text-align: right;\">\n",
       "      <th></th>\n",
       "      <th>id</th>\n",
       "      <th>title</th>\n",
       "      <th>release_date</th>\n",
       "      <th>original_language</th>\n",
       "      <th>overview</th>\n",
       "      <th>poster_path</th>\n",
       "      <th>production_companies</th>\n",
       "      <th>genres</th>\n",
       "    </tr>\n",
       "  </thead>\n",
       "  <tbody>\n",
       "    <tr>\n",
       "      <th>0</th>\n",
       "      <td>27205</td>\n",
       "      <td>Inception</td>\n",
       "      <td>2010-07-15</td>\n",
       "      <td>en</td>\n",
       "      <td>Cobb, a skilled thief who commits corporate es...</td>\n",
       "      <td>/oYuLEt3zVCKq57qu2F8dT7NIa6f.jpg</td>\n",
       "      <td>Legendary Pictures, Syncopy, Warner Bros. Pict...</td>\n",
       "      <td>Action, Science Fiction, Adventure</td>\n",
       "    </tr>\n",
       "  </tbody>\n",
       "</table>\n",
       "</div>"
      ],
      "text/plain": [
       "      id      title release_date original_language  \\\n",
       "0  27205  Inception   2010-07-15                en   \n",
       "\n",
       "                                            overview  \\\n",
       "0  Cobb, a skilled thief who commits corporate es...   \n",
       "\n",
       "                        poster_path  \\\n",
       "0  /oYuLEt3zVCKq57qu2F8dT7NIa6f.jpg   \n",
       "\n",
       "                                production_companies  \\\n",
       "0  Legendary Pictures, Syncopy, Warner Bros. Pict...   \n",
       "\n",
       "                               genres  \n",
       "0  Action, Science Fiction, Adventure  "
      ]
     },
     "execution_count": 5,
     "metadata": {},
     "output_type": "execute_result"
    }
   ],
   "source": [
    "movies.head(1)"
   ]
  },
  {
   "cell_type": "code",
   "execution_count": 6,
   "id": "8e289dbe-9918-4b68-bb5f-2ba661b2f92a",
   "metadata": {},
   "outputs": [
    {
     "data": {
      "text/plain": [
       "id                           0\n",
       "title                       12\n",
       "release_date            105504\n",
       "original_language            0\n",
       "overview                176038\n",
       "poster_path             265321\n",
       "production_companies    511442\n",
       "genres                  357286\n",
       "dtype: int64"
      ]
     },
     "execution_count": 6,
     "metadata": {},
     "output_type": "execute_result"
    }
   ],
   "source": [
    "movies.isnull().sum()"
   ]
  },
  {
   "cell_type": "code",
   "execution_count": 7,
   "id": "0b3a7866-4149-4ea7-b3ea-a2ac760c32ee",
   "metadata": {},
   "outputs": [],
   "source": [
    "movies.dropna(inplace=True)"
   ]
  },
  {
   "cell_type": "code",
   "execution_count": 8,
   "id": "c2140134-d1f7-4a22-8e99-f714f57da549",
   "metadata": {},
   "outputs": [],
   "source": [
    "movies.drop(['original_language'],axis=1,inplace=True)"
   ]
  },
  {
   "cell_type": "code",
   "execution_count": 9,
   "id": "125e0a23-5bbf-4846-bc57-98bb43d6a58d",
   "metadata": {},
   "outputs": [],
   "source": [
    "path = movies[['id','poster_path']]"
   ]
  },
  {
   "cell_type": "code",
   "execution_count": 10,
   "id": "90820e65-7212-461e-b815-f31380280e0d",
   "metadata": {},
   "outputs": [],
   "source": [
    "movies.drop(['poster_path'],axis=1,inplace=True)"
   ]
  },
  {
   "cell_type": "code",
   "execution_count": 11,
   "id": "9344f61c-2ee5-4469-a7d8-7928b5692c58",
   "metadata": {},
   "outputs": [],
   "source": [
    "movies['production_companies'] = movies['production_companies'].apply(lambda x:x.split(','))"
   ]
  },
  {
   "cell_type": "code",
   "execution_count": 12,
   "id": "f73ee1e6-0780-4662-97fc-2887334ad274",
   "metadata": {},
   "outputs": [],
   "source": [
    "movies['genres'] = movies['genres'].apply(lambda x:x.split(','))"
   ]
  },
  {
   "cell_type": "code",
   "execution_count": 13,
   "id": "499cf868-cf32-4b2f-96f0-2c46844ef244",
   "metadata": {},
   "outputs": [],
   "source": [
    "movies['release_date'] = movies['release_date'].apply(lambda x:x.split('-'))"
   ]
  },
  {
   "cell_type": "code",
   "execution_count": 14,
   "id": "15becd8c-32d9-49f1-a325-019e2a4c68bd",
   "metadata": {},
   "outputs": [],
   "source": [
    "movies['overview'] = movies['overview'].apply(lambda x:x.split())"
   ]
  },
  {
   "cell_type": "code",
   "execution_count": 15,
   "id": "1de607ab-7cd4-49c4-9a18-4f00881ae235",
   "metadata": {},
   "outputs": [
    {
     "data": {
      "text/html": [
       "<div>\n",
       "<style scoped>\n",
       "    .dataframe tbody tr th:only-of-type {\n",
       "        vertical-align: middle;\n",
       "    }\n",
       "\n",
       "    .dataframe tbody tr th {\n",
       "        vertical-align: top;\n",
       "    }\n",
       "\n",
       "    .dataframe thead th {\n",
       "        text-align: right;\n",
       "    }\n",
       "</style>\n",
       "<table border=\"1\" class=\"dataframe\">\n",
       "  <thead>\n",
       "    <tr style=\"text-align: right;\">\n",
       "      <th></th>\n",
       "      <th>id</th>\n",
       "      <th>title</th>\n",
       "      <th>release_date</th>\n",
       "      <th>overview</th>\n",
       "      <th>production_companies</th>\n",
       "      <th>genres</th>\n",
       "    </tr>\n",
       "  </thead>\n",
       "  <tbody>\n",
       "    <tr>\n",
       "      <th>0</th>\n",
       "      <td>27205</td>\n",
       "      <td>Inception</td>\n",
       "      <td>[2010, 07, 15]</td>\n",
       "      <td>[Cobb,, a, skilled, thief, who, commits, corpo...</td>\n",
       "      <td>[Legendary Pictures,  Syncopy,  Warner Bros. P...</td>\n",
       "      <td>[Action,  Science Fiction,  Adventure]</td>\n",
       "    </tr>\n",
       "    <tr>\n",
       "      <th>1</th>\n",
       "      <td>157336</td>\n",
       "      <td>Interstellar</td>\n",
       "      <td>[2014, 11, 05]</td>\n",
       "      <td>[The, adventures, of, a, group, of, explorers,...</td>\n",
       "      <td>[Legendary Pictures,  Syncopy,  Lynda Obst Pro...</td>\n",
       "      <td>[Adventure,  Drama,  Science Fiction]</td>\n",
       "    </tr>\n",
       "    <tr>\n",
       "      <th>2</th>\n",
       "      <td>155</td>\n",
       "      <td>The Dark Knight</td>\n",
       "      <td>[2008, 07, 16]</td>\n",
       "      <td>[Batman, raises, the, stakes, in, his, war, on...</td>\n",
       "      <td>[DC Comics,  Legendary Pictures,  Syncopy,  Is...</td>\n",
       "      <td>[Drama,  Action,  Crime,  Thriller]</td>\n",
       "    </tr>\n",
       "    <tr>\n",
       "      <th>3</th>\n",
       "      <td>19995</td>\n",
       "      <td>Avatar</td>\n",
       "      <td>[2009, 12, 15]</td>\n",
       "      <td>[In, the, 22nd, century,, a, paraplegic, Marin...</td>\n",
       "      <td>[Dune Entertainment,  Lightstorm Entertainment...</td>\n",
       "      <td>[Action,  Adventure,  Fantasy,  Science Fiction]</td>\n",
       "    </tr>\n",
       "    <tr>\n",
       "      <th>4</th>\n",
       "      <td>24428</td>\n",
       "      <td>The Avengers</td>\n",
       "      <td>[2012, 04, 25]</td>\n",
       "      <td>[When, an, unexpected, enemy, emerges, and, th...</td>\n",
       "      <td>[Marvel Studios]</td>\n",
       "      <td>[Science Fiction,  Action,  Adventure]</td>\n",
       "    </tr>\n",
       "  </tbody>\n",
       "</table>\n",
       "</div>"
      ],
      "text/plain": [
       "       id            title    release_date  \\\n",
       "0   27205        Inception  [2010, 07, 15]   \n",
       "1  157336     Interstellar  [2014, 11, 05]   \n",
       "2     155  The Dark Knight  [2008, 07, 16]   \n",
       "3   19995           Avatar  [2009, 12, 15]   \n",
       "4   24428     The Avengers  [2012, 04, 25]   \n",
       "\n",
       "                                            overview  \\\n",
       "0  [Cobb,, a, skilled, thief, who, commits, corpo...   \n",
       "1  [The, adventures, of, a, group, of, explorers,...   \n",
       "2  [Batman, raises, the, stakes, in, his, war, on...   \n",
       "3  [In, the, 22nd, century,, a, paraplegic, Marin...   \n",
       "4  [When, an, unexpected, enemy, emerges, and, th...   \n",
       "\n",
       "                                production_companies  \\\n",
       "0  [Legendary Pictures,  Syncopy,  Warner Bros. P...   \n",
       "1  [Legendary Pictures,  Syncopy,  Lynda Obst Pro...   \n",
       "2  [DC Comics,  Legendary Pictures,  Syncopy,  Is...   \n",
       "3  [Dune Entertainment,  Lightstorm Entertainment...   \n",
       "4                                   [Marvel Studios]   \n",
       "\n",
       "                                             genres  \n",
       "0            [Action,  Science Fiction,  Adventure]  \n",
       "1             [Adventure,  Drama,  Science Fiction]  \n",
       "2               [Drama,  Action,  Crime,  Thriller]  \n",
       "3  [Action,  Adventure,  Fantasy,  Science Fiction]  \n",
       "4            [Science Fiction,  Action,  Adventure]  "
      ]
     },
     "execution_count": 15,
     "metadata": {},
     "output_type": "execute_result"
    }
   ],
   "source": [
    "movies.head()"
   ]
  },
  {
   "cell_type": "code",
   "execution_count": 16,
   "id": "579d1215-f3ca-46b3-a737-7bbbfd43caff",
   "metadata": {},
   "outputs": [],
   "source": [
    "movies['genres'] = movies['genres'].apply(lambda x:[i.replace(\" \",\"\")for i in x])\n",
    "movies['production_companies'] = movies['production_companies'].apply(lambda x:[i.replace(\" \",\"\")for i in x])"
   ]
  },
  {
   "cell_type": "code",
   "execution_count": 17,
   "id": "394549d1-2c6a-4c08-b6b0-ae8a8a95152f",
   "metadata": {},
   "outputs": [],
   "source": [
    "movies['tags'] = movies['overview'] + movies['production_companies'] + movies['genres'] + movies['release_date']"
   ]
  },
  {
   "cell_type": "code",
   "execution_count": 18,
   "id": "1a485968-47af-4b2c-b70d-26d94eec7166",
   "metadata": {},
   "outputs": [
    {
     "data": {
      "text/html": [
       "<div>\n",
       "<style scoped>\n",
       "    .dataframe tbody tr th:only-of-type {\n",
       "        vertical-align: middle;\n",
       "    }\n",
       "\n",
       "    .dataframe tbody tr th {\n",
       "        vertical-align: top;\n",
       "    }\n",
       "\n",
       "    .dataframe thead th {\n",
       "        text-align: right;\n",
       "    }\n",
       "</style>\n",
       "<table border=\"1\" class=\"dataframe\">\n",
       "  <thead>\n",
       "    <tr style=\"text-align: right;\">\n",
       "      <th></th>\n",
       "      <th>id</th>\n",
       "      <th>title</th>\n",
       "      <th>release_date</th>\n",
       "      <th>overview</th>\n",
       "      <th>production_companies</th>\n",
       "      <th>genres</th>\n",
       "      <th>tags</th>\n",
       "    </tr>\n",
       "  </thead>\n",
       "  <tbody>\n",
       "    <tr>\n",
       "      <th>0</th>\n",
       "      <td>27205</td>\n",
       "      <td>Inception</td>\n",
       "      <td>[2010, 07, 15]</td>\n",
       "      <td>[Cobb,, a, skilled, thief, who, commits, corpo...</td>\n",
       "      <td>[LegendaryPictures, Syncopy, WarnerBros.Pictures]</td>\n",
       "      <td>[Action, ScienceFiction, Adventure]</td>\n",
       "      <td>[Cobb,, a, skilled, thief, who, commits, corpo...</td>\n",
       "    </tr>\n",
       "    <tr>\n",
       "      <th>1</th>\n",
       "      <td>157336</td>\n",
       "      <td>Interstellar</td>\n",
       "      <td>[2014, 11, 05]</td>\n",
       "      <td>[The, adventures, of, a, group, of, explorers,...</td>\n",
       "      <td>[LegendaryPictures, Syncopy, LyndaObstProducti...</td>\n",
       "      <td>[Adventure, Drama, ScienceFiction]</td>\n",
       "      <td>[The, adventures, of, a, group, of, explorers,...</td>\n",
       "    </tr>\n",
       "    <tr>\n",
       "      <th>2</th>\n",
       "      <td>155</td>\n",
       "      <td>The Dark Knight</td>\n",
       "      <td>[2008, 07, 16]</td>\n",
       "      <td>[Batman, raises, the, stakes, in, his, war, on...</td>\n",
       "      <td>[DCComics, LegendaryPictures, Syncopy, IsobelG...</td>\n",
       "      <td>[Drama, Action, Crime, Thriller]</td>\n",
       "      <td>[Batman, raises, the, stakes, in, his, war, on...</td>\n",
       "    </tr>\n",
       "    <tr>\n",
       "      <th>3</th>\n",
       "      <td>19995</td>\n",
       "      <td>Avatar</td>\n",
       "      <td>[2009, 12, 15]</td>\n",
       "      <td>[In, the, 22nd, century,, a, paraplegic, Marin...</td>\n",
       "      <td>[DuneEntertainment, LightstormEntertainment, 2...</td>\n",
       "      <td>[Action, Adventure, Fantasy, ScienceFiction]</td>\n",
       "      <td>[In, the, 22nd, century,, a, paraplegic, Marin...</td>\n",
       "    </tr>\n",
       "    <tr>\n",
       "      <th>4</th>\n",
       "      <td>24428</td>\n",
       "      <td>The Avengers</td>\n",
       "      <td>[2012, 04, 25]</td>\n",
       "      <td>[When, an, unexpected, enemy, emerges, and, th...</td>\n",
       "      <td>[MarvelStudios]</td>\n",
       "      <td>[ScienceFiction, Action, Adventure]</td>\n",
       "      <td>[When, an, unexpected, enemy, emerges, and, th...</td>\n",
       "    </tr>\n",
       "  </tbody>\n",
       "</table>\n",
       "</div>"
      ],
      "text/plain": [
       "       id            title    release_date  \\\n",
       "0   27205        Inception  [2010, 07, 15]   \n",
       "1  157336     Interstellar  [2014, 11, 05]   \n",
       "2     155  The Dark Knight  [2008, 07, 16]   \n",
       "3   19995           Avatar  [2009, 12, 15]   \n",
       "4   24428     The Avengers  [2012, 04, 25]   \n",
       "\n",
       "                                            overview  \\\n",
       "0  [Cobb,, a, skilled, thief, who, commits, corpo...   \n",
       "1  [The, adventures, of, a, group, of, explorers,...   \n",
       "2  [Batman, raises, the, stakes, in, his, war, on...   \n",
       "3  [In, the, 22nd, century,, a, paraplegic, Marin...   \n",
       "4  [When, an, unexpected, enemy, emerges, and, th...   \n",
       "\n",
       "                                production_companies  \\\n",
       "0  [LegendaryPictures, Syncopy, WarnerBros.Pictures]   \n",
       "1  [LegendaryPictures, Syncopy, LyndaObstProducti...   \n",
       "2  [DCComics, LegendaryPictures, Syncopy, IsobelG...   \n",
       "3  [DuneEntertainment, LightstormEntertainment, 2...   \n",
       "4                                    [MarvelStudios]   \n",
       "\n",
       "                                         genres  \\\n",
       "0           [Action, ScienceFiction, Adventure]   \n",
       "1            [Adventure, Drama, ScienceFiction]   \n",
       "2              [Drama, Action, Crime, Thriller]   \n",
       "3  [Action, Adventure, Fantasy, ScienceFiction]   \n",
       "4           [ScienceFiction, Action, Adventure]   \n",
       "\n",
       "                                                tags  \n",
       "0  [Cobb,, a, skilled, thief, who, commits, corpo...  \n",
       "1  [The, adventures, of, a, group, of, explorers,...  \n",
       "2  [Batman, raises, the, stakes, in, his, war, on...  \n",
       "3  [In, the, 22nd, century,, a, paraplegic, Marin...  \n",
       "4  [When, an, unexpected, enemy, emerges, and, th...  "
      ]
     },
     "execution_count": 18,
     "metadata": {},
     "output_type": "execute_result"
    }
   ],
   "source": [
    "movies.head()"
   ]
  },
  {
   "cell_type": "code",
   "execution_count": 19,
   "id": "d2467a58-40c7-4af3-8626-fdf47afe8b80",
   "metadata": {},
   "outputs": [],
   "source": [
    "movies_f = movies[['id','title','tags']]"
   ]
  },
  {
   "cell_type": "code",
   "execution_count": 20,
   "id": "83ff3a00-6dcc-4e04-8065-0b655657ed90",
   "metadata": {},
   "outputs": [],
   "source": [
    "movies_f = movies_f.iloc[:10000,:]"
   ]
  },
  {
   "cell_type": "code",
   "execution_count": 21,
   "id": "b7253705-e3a6-4ae4-96ad-306b583589eb",
   "metadata": {},
   "outputs": [
    {
     "data": {
      "text/plain": [
       "(10000, 3)"
      ]
     },
     "execution_count": 21,
     "metadata": {},
     "output_type": "execute_result"
    }
   ],
   "source": [
    "movies_f.shape"
   ]
  },
  {
   "cell_type": "code",
   "execution_count": 22,
   "id": "7b88f322-0c4d-4070-a82c-443b55d69579",
   "metadata": {},
   "outputs": [],
   "source": [
    "from nltk.stem.porter import PorterStemmer"
   ]
  },
  {
   "cell_type": "code",
   "execution_count": 23,
   "id": "e3ee5e08-3bfd-49de-bf2f-d67bc7d862fd",
   "metadata": {},
   "outputs": [],
   "source": [
    "ps = PorterStemmer()"
   ]
  },
  {
   "cell_type": "code",
   "execution_count": 24,
   "id": "61afa1c3-8551-42f5-8978-bfa71e885756",
   "metadata": {},
   "outputs": [],
   "source": [
    "def stem(text):\n",
    "    y = []\n",
    "    for i in text:\n",
    "        y.append(ps.stem(i))\n",
    "    return \" \".join(y)"
   ]
  },
  {
   "cell_type": "code",
   "execution_count": 25,
   "id": "73550858-7174-492c-a4a8-ffc61ef88de4",
   "metadata": {},
   "outputs": [],
   "source": [
    "movies_f['tags'] = movies_f['tags'].apply(stem) "
   ]
  },
  {
   "cell_type": "code",
   "execution_count": 26,
   "id": "ddbcc3de-5a2c-49b6-8eab-592d7f9858c0",
   "metadata": {},
   "outputs": [
    {
     "data": {
      "text/plain": [
       "'cobb, a skill thief who commit corpor espionag by infiltr the subconsci of hi target is offer a chanc to regain hi old life as payment for a task consid to be impossible: \"inception\", the implant of anoth person\\' idea into a target\\' subconscious. legendarypictur syncopi warnerbros.pictur action sciencefict adventur 2010 07 15'"
      ]
     },
     "execution_count": 26,
     "metadata": {},
     "output_type": "execute_result"
    }
   ],
   "source": [
    "movies_f['tags'][0]"
   ]
  },
  {
   "cell_type": "code",
   "execution_count": 27,
   "id": "9307f1e3-68eb-433b-adb0-0980aa4f2adb",
   "metadata": {},
   "outputs": [],
   "source": [
    "from sklearn.feature_extraction.text import CountVectorizer\n",
    "cv = CountVectorizer(max_features=5000,stop_words='english')"
   ]
  },
  {
   "cell_type": "code",
   "execution_count": 28,
   "id": "d82afa1e-5d04-4744-90f2-7b326f10edc6",
   "metadata": {},
   "outputs": [],
   "source": [
    "vectors = cv.fit_transform(movies_f['tags']).toarray()"
   ]
  },
  {
   "cell_type": "code",
   "execution_count": 29,
   "id": "5ffb525a-1823-46c3-8fca-f2ef4cac4b80",
   "metadata": {},
   "outputs": [
    {
     "data": {
      "text/plain": [
       "array([0, 0, 0, ..., 0, 0, 0], dtype=int64)"
      ]
     },
     "execution_count": 29,
     "metadata": {},
     "output_type": "execute_result"
    }
   ],
   "source": [
    "vectors[0]"
   ]
  },
  {
   "cell_type": "code",
   "execution_count": 30,
   "id": "0b6e9bcc-e913-4f29-959f-d9489bfae86c",
   "metadata": {},
   "outputs": [
    {
     "data": {
      "text/plain": [
       "array(['000', '01', '02', ..., 'zombies', 'zone', 'zoo'], dtype=object)"
      ]
     },
     "execution_count": 30,
     "metadata": {},
     "output_type": "execute_result"
    }
   ],
   "source": [
    "cv.get_feature_names_out()"
   ]
  },
  {
   "cell_type": "code",
   "execution_count": 31,
   "id": "59f77f14-79a0-4fd1-941c-c9c4520af3dc",
   "metadata": {},
   "outputs": [],
   "source": [
    "from sklearn.metrics.pairwise import cosine_similarity"
   ]
  },
  {
   "cell_type": "code",
   "execution_count": 32,
   "id": "69ae00ad-9593-4139-ad94-36fa90462c8b",
   "metadata": {},
   "outputs": [],
   "source": [
    "similarity = cosine_similarity(vectors)"
   ]
  },
  {
   "cell_type": "code",
   "execution_count": 33,
   "id": "293129a9-e564-4a1a-8e88-4bb07dccb522",
   "metadata": {},
   "outputs": [
    {
     "data": {
      "text/plain": [
       "array([0.14002801, 0.12247449, 0.02777778, ..., 0.04166667, 0.07216878,\n",
       "       0.03042903])"
      ]
     },
     "execution_count": 33,
     "metadata": {},
     "output_type": "execute_result"
    }
   ],
   "source": [
    "similarity[3]"
   ]
  },
  {
   "cell_type": "code",
   "execution_count": 34,
   "id": "f829a601-b2ea-4b7b-9c4c-db192642ea87",
   "metadata": {},
   "outputs": [],
   "source": [
    "def recommend(movie):\n",
    "    movie_index = movies_f[movies_f['title'] == movie]['id'].index[0]\n",
    "    distance = similarity[movie_index]\n",
    "    movies_list = sorted(list(enumerate(distance)),reverse=True,key=lambda x:x[1])[1:6]\n",
    "\n",
    "    for i in movies_list:\n",
    "        l = path[path['id'] == i[0]]['poster_path'].values\n",
    "        print(movies_f.iloc[i[0]].title,\"\".join(l))    "
   ]
  },
  {
   "cell_type": "code",
   "execution_count": 35,
   "id": "cd87cce8-a447-4045-8217-739914ed2e38",
   "metadata": {},
   "outputs": [
    {
     "data": {
      "text/html": [
       "<div>\n",
       "<style scoped>\n",
       "    .dataframe tbody tr th:only-of-type {\n",
       "        vertical-align: middle;\n",
       "    }\n",
       "\n",
       "    .dataframe tbody tr th {\n",
       "        vertical-align: top;\n",
       "    }\n",
       "\n",
       "    .dataframe thead th {\n",
       "        text-align: right;\n",
       "    }\n",
       "</style>\n",
       "<table border=\"1\" class=\"dataframe\">\n",
       "  <thead>\n",
       "    <tr style=\"text-align: right;\">\n",
       "      <th></th>\n",
       "      <th>id</th>\n",
       "      <th>title</th>\n",
       "      <th>tags</th>\n",
       "    </tr>\n",
       "  </thead>\n",
       "  <tbody>\n",
       "    <tr>\n",
       "      <th>3</th>\n",
       "      <td>19995</td>\n",
       "      <td>Avatar</td>\n",
       "      <td>in the 22nd century, a parapleg marin is dispa...</td>\n",
       "    </tr>\n",
       "  </tbody>\n",
       "</table>\n",
       "</div>"
      ],
      "text/plain": [
       "      id   title                                               tags\n",
       "3  19995  Avatar  in the 22nd century, a parapleg marin is dispa..."
      ]
     },
     "execution_count": 35,
     "metadata": {},
     "output_type": "execute_result"
    }
   ],
   "source": [
    "movies_f[movies_f['title'] == 'Avatar']"
   ]
  },
  {
   "cell_type": "code",
   "execution_count": 36,
   "id": "86cbc216-bce4-4477-95bc-4f10907695de",
   "metadata": {},
   "outputs": [
    {
     "data": {
      "text/plain": [
       "[(3, 0.9999999999999998),\n",
       " (4147, 0.33678765702728175),\n",
       " (7309, 0.3273268353539886),\n",
       " (1737, 0.2727723627949905),\n",
       " (475, 0.2553769592276246)]"
      ]
     },
     "execution_count": 36,
     "metadata": {},
     "output_type": "execute_result"
    }
   ],
   "source": [
    "sorted(list(enumerate(similarity[3])),reverse=True,key=lambda x:x[1])[0:5]"
   ]
  },
  {
   "cell_type": "code",
   "execution_count": 45,
   "id": "390c82e6-3058-455c-9364-c5ee19ba2743",
   "metadata": {},
   "outputs": [
    {
     "data": {
      "text/plain": [
       "id                                                   19995\n",
       "title                                               Avatar\n",
       "tags     in the 22nd century, a parapleg marin is dispa...\n",
       "Name: 3, dtype: object"
      ]
     },
     "execution_count": 45,
     "metadata": {},
     "output_type": "execute_result"
    }
   ],
   "source": [
    "movies_f.iloc[3]"
   ]
  },
  {
   "cell_type": "code",
   "execution_count": 38,
   "id": "787081c4-26a8-476c-8a2b-b258bdbf7f83",
   "metadata": {},
   "outputs": [
    {
     "name": "stdout",
     "output_type": "stream",
     "text": [
      "Iron Man 3 /mVWFN3RaBFLuJRtRLPebatX9qPq.jpg\n",
      "Double Team /d9GV6b2ta3jWmDEZDby9AcL6io3.jpg\n",
      "Avengers: Age of Ultron \n",
      "Team America: World Police /cBJtWAgDTCqxNJJOZjnRSh5Vxa5.jpg\n",
      "Guardians of the Galaxy Vol. 2 \n"
     ]
    }
   ],
   "source": [
    "recommend('The Avengers')"
   ]
  },
  {
   "cell_type": "code",
   "execution_count": 39,
   "id": "2f41e307-4d22-467b-89bd-8062ab85359e",
   "metadata": {},
   "outputs": [],
   "source": [
    "import pickle"
   ]
  },
  {
   "cell_type": "code",
   "execution_count": null,
   "id": "880fa806-32ff-4b4a-99a2-39956d5eff48",
   "metadata": {},
   "outputs": [],
   "source": [
    "pickle.dump(movies_f,open('movies.pkl','wb'))"
   ]
  },
  {
   "cell_type": "code",
   "execution_count": null,
   "id": "1f987a3d-bdd7-4394-8b66-1373fd863acf",
   "metadata": {},
   "outputs": [],
   "source": [
    "pickle.dump(similarity,open('similarity.pkl','wb'))"
   ]
  },
  {
   "cell_type": "code",
   "execution_count": 40,
   "id": "73e819ef-9dca-48f9-956b-a87a9ab41218",
   "metadata": {},
   "outputs": [],
   "source": [
    "path = path.iloc[:10000,:]"
   ]
  },
  {
   "cell_type": "code",
   "execution_count": 41,
   "id": "5ca4b35d-2006-419e-9bf3-c378e4ab704a",
   "metadata": {},
   "outputs": [],
   "source": [
    "l = movies_f[movies_f['title'] == 'Avengers: Age of Ultron']['id'].index[0]"
   ]
  },
  {
   "cell_type": "code",
   "execution_count": 42,
   "id": "ba34aa1a-c804-4947-b166-a8a70d981d95",
   "metadata": {},
   "outputs": [],
   "source": [
    "addres = path[path['id'] == l]['poster_path'].values"
   ]
  },
  {
   "cell_type": "code",
   "execution_count": 44,
   "id": "d6a05f76-e43e-4d80-bab1-dea120e858af",
   "metadata": {},
   "outputs": [
    {
     "data": {
      "text/plain": [
       "array([], dtype=object)"
      ]
     },
     "execution_count": 44,
     "metadata": {},
     "output_type": "execute_result"
    }
   ],
   "source": [
    "addres"
   ]
  },
  {
   "cell_type": "code",
   "execution_count": null,
   "id": "0814648c-4168-466a-a4f4-c8397e0bf303",
   "metadata": {},
   "outputs": [],
   "source": [
    "pickle.dump(path,open('path.pkl','wb'))"
   ]
  },
  {
   "cell_type": "code",
   "execution_count": 48,
   "id": "f908c820-e0d3-48cf-b4e7-bc82b8eee737",
   "metadata": {},
   "outputs": [
    {
     "data": {
      "text/plain": [
       "'/kyeqWdyUXW608qlYkRqosgbbJyK.jpg'"
      ]
     },
     "execution_count": 48,
     "metadata": {},
     "output_type": "execute_result"
    }
   ],
   "source": [
    "path.iloc[3]['poster_path']"
   ]
  },
  {
   "cell_type": "code",
   "execution_count": null,
   "id": "01b85d0d-ad17-40be-91d1-3f24474383d1",
   "metadata": {},
   "outputs": [],
   "source": []
  }
 ],
 "metadata": {
  "kernelspec": {
   "display_name": "Python 3 (ipykernel)",
   "language": "python",
   "name": "python3"
  },
  "language_info": {
   "codemirror_mode": {
    "name": "ipython",
    "version": 3
   },
   "file_extension": ".py",
   "mimetype": "text/x-python",
   "name": "python",
   "nbconvert_exporter": "python",
   "pygments_lexer": "ipython3",
   "version": "3.11.1"
  }
 },
 "nbformat": 4,
 "nbformat_minor": 5
}
